{
 "cells": [
  {
   "cell_type": "markdown",
   "id": "58519504",
   "metadata": {},
   "source": [
    "# 🧬 Object-Oriented Programming: Inheritance in Python\n",
    "\n",
    "This notebook explains **inheritance** in Python step by step using simple, clear examples.\n",
    "You'll learn:\n",
    "- What inheritance is\n",
    "- How to use `super()`\n",
    "- How subclasses can override or extend parent behavior\n",
    "- How to use polymorphism with inherited classes"
   ]
  },
  {
   "cell_type": "markdown",
   "id": "4ddd0d48",
   "metadata": {},
   "source": [
    "## 📘 What is Inheritance?\n",
    "Inheritance allows a class (child/subclass) to **reuse** code from another class (parent/superclass).\n",
    "It helps avoid duplication and makes code easier to manage."
   ]
  },
  {
   "cell_type": "code",
   "execution_count": 14,
   "id": "e94d4885",
   "metadata": {},
   "outputs": [],
   "source": [
    "# Parent class\n",
    "class Animal:\n",
    "    def __init__(self, name):\n",
    "        self.name = name\n",
    "\n",
    "    def speak(self):\n",
    "        print(f\"{self.name} makes a sound.\")"
   ]
  },
  {
   "cell_type": "code",
   "execution_count": 15,
   "id": "b16ace99",
   "metadata": {},
   "outputs": [],
   "source": [
    "# Child class that inherits from Animal\n",
    "class Dog(Animal):\n",
    "    #pass ถ้าเราพาสมันจะยืมความสามารถของ animal มา\n",
    "    def speak(self):\n",
    "        print(f\"{self.name} barks.\") #ถ้าเอา pass ออก make a sound จะเปลี่ยนเป็น bark จะเป็นการเขียนทับ เรียกว่า overwrite"
   ]
  },
  {
   "cell_type": "code",
   "execution_count": 16,
   "id": "8eb21b2a",
   "metadata": {},
   "outputs": [
    {
     "name": "stdout",
     "output_type": "stream",
     "text": [
      "GenericAnimal makes a sound.\n",
      "Rex barks.\n"
     ]
    }
   ],
   "source": [
    "a = Animal(\"GenericAnimal\")\n",
    "d = Dog(\"Rex\")\n",
    "\n",
    "a.speak()\n",
    "d.speak()  # This uses the Dog's overridden method"
   ]
  },
  {
   "cell_type": "markdown",
   "id": "855105df",
   "metadata": {},
   "source": [
    "## 🔁 Using `super()`\n",
    "The `super()` function lets the child class call methods from the parent class, especially useful inside `__init__()`."
   ]
  },
  {
   "cell_type": "code",
   "execution_count": 17,
   "id": "a7581da7",
   "metadata": {},
   "outputs": [],
   "source": [
    "class Cat(Animal):\n",
    "    def __init__(self, name, color):\n",
    "        super().__init__(name)  # Call the parent constructor ใช้ super ช่วยในการเพิ่ม เพื่อไม่ให้เขียนทับกันเหมือนข้างบน\n",
    "        self.color = color\n",
    "\n",
    "    def speak(self):\n",
    "        super().speak()  # Optionally call parent version too\n",
    "        print(f\"{self.name} meows.\")"
   ]
  },
  {
   "cell_type": "code",
   "execution_count": 18,
   "id": "8de7fc0e",
   "metadata": {},
   "outputs": [
    {
     "name": "stdout",
     "output_type": "stream",
     "text": [
      "Color: gray\n",
      "Whiskers makes a sound.\n",
      "Whiskers meows.\n"
     ]
    }
   ],
   "source": [
    "c = Cat(\"Whiskers\", \"gray\")\n",
    "print(f\"Color: {c.color}\")\n",
    "c.speak()"
   ]
  },
  {
   "cell_type": "markdown",
   "id": "101f6fca",
   "metadata": {},
   "source": [
    "## ➕ Extending Behavior in Subclasses\n",
    "Subclasses can add new methods that the parent doesn't have."
   ]
  },
  {
   "cell_type": "code",
   "execution_count": 19,
   "id": "f1a7860d",
   "metadata": {},
   "outputs": [],
   "source": [
    "class Bird(Animal):\n",
    "    def fly(self):\n",
    "        print(f\"{self.name} is flying!\")"
   ]
  },
  {
   "cell_type": "code",
   "execution_count": 20,
   "id": "1f8dff7f",
   "metadata": {},
   "outputs": [
    {
     "name": "stdout",
     "output_type": "stream",
     "text": [
      "Tweety makes a sound.\n",
      "Tweety is flying!\n"
     ]
    }
   ],
   "source": [
    "b = Bird(\"Tweety\")\n",
    "b.speak()\n",
    "b.fly()"
   ]
  },
  {
   "cell_type": "markdown",
   "id": "e4305431",
   "metadata": {},
   "source": [
    "## 🔄 Polymorphism with Inheritance\n",
    "You can use a loop to treat different subclasses the same way if they share method names."
   ]
  },
  {
   "cell_type": "code",
   "execution_count": 21,
   "id": "1565a89b",
   "metadata": {},
   "outputs": [
    {
     "name": "stdout",
     "output_type": "stream",
     "text": [
      "Buddy barks.\n",
      "Mittens makes a sound.\n",
      "Mittens meows.\n",
      "Robin makes a sound.\n"
     ]
    }
   ],
   "source": [
    "animals = [Dog(\"Buddy\"), Cat(\"Mittens\", \"white\"), Bird(\"Robin\")]\n",
    "\n",
    "for animal in animals:\n",
    "    animal.speak()  # Each one behaves differently\n"
   ]
  },
  {
   "cell_type": "markdown",
   "id": "c16eb6a3",
   "metadata": {},
   "source": [
    "## ✅ Summary of Inheritance\n",
    "- Use inheritance to reuse and organize code\n",
    "- `super()` lets you call the parent class's methods\n",
    "- Subclasses can override or extend parent behavior\n",
    "- Polymorphism allows different objects to respond differently to the same method call\n",
    "\n",
    "This is powerful for designing flexible, reusable code!"
   ]
  }
 ],
 "metadata": {
  "kernelspec": {
   "display_name": "Python 3",
   "language": "python",
   "name": "python3"
  },
  "language_info": {
   "codemirror_mode": {
    "name": "ipython",
    "version": 3
   },
   "file_extension": ".py",
   "mimetype": "text/x-python",
   "name": "python",
   "nbconvert_exporter": "python",
   "pygments_lexer": "ipython3",
   "version": "3.13.3"
  }
 },
 "nbformat": 4,
 "nbformat_minor": 5
}
