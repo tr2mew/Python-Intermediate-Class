{
 "cells": [
  {
   "cell_type": "markdown",
   "id": "aecdc7a1",
   "metadata": {},
   "source": [
    "# 🎓 Learn OOP Step-by-Step: From Basics to Full Class Design\n",
    "\n",
    "This notebook guides you through 13 progressive stages to learn Object-Oriented Programming (OOP) in Python.\n",
    "You'll start with variables and end with full-featured classes including methods, classmethods, and validation.\n",
    "Each stage contains explanations, code examples, and practice prompts."
   ]
  },
  {
   "cell_type": "markdown",
   "id": "31ceaacf",
   "metadata": {},
   "source": [
    "## Stage 1\n",
    "**What it teaches:** Raw variables and print statements — no class, no functions"
   ]
  },
  {
   "cell_type": "code",
   "execution_count": 1,
   "id": "70fc679f",
   "metadata": {},
   "outputs": [
    {
     "name": "stdout",
     "output_type": "stream",
     "text": [
      "Name: Alice\n",
      "Age: 20\n",
      "Courses: Math, English\n",
      "--------------------\n",
      "Name: Bob\n",
      "Age: 22\n",
      "Courses: Physics, History\n"
     ]
    }
   ],
   "source": [
    "# Student 1\n",
    "student1_name = \"Alice\"\n",
    "student1_age = 20\n",
    "student1_courses = [\"Math\", \"English\"]\n",
    "\n",
    "print(\"Name:\", student1_name)\n",
    "print(\"Age:\", student1_age)\n",
    "print(\"Courses:\", \", \".join(student1_courses))\n",
    "print(\"-\" * 20)\n",
    "\n",
    "# Student 2\n",
    "student2_name = \"Bob\"\n",
    "student2_age = 22\n",
    "student2_courses = [\"Physics\", \"History\"]\n",
    "\n",
    "print(\"Name:\", student2_name)\n",
    "print(\"Age:\", student2_age)\n",
    "print(\"Courses:\", \", \".join(student2_courses))"
   ]
  },
  {
   "cell_type": "markdown",
   "id": "7f935ace",
   "metadata": {},
   "source": [
    "🧪 **Practice:** Try modifying the example, adding a new instance, or enhancing the feature introduced in this stage."
   ]
  },
  {
   "cell_type": "markdown",
   "id": "a8af9dd0",
   "metadata": {},
   "source": [
    "## Stage 2\n",
    "**What it teaches:** Define an empty class; manually assign attributes; still using print"
   ]
  },
  {
   "cell_type": "code",
   "execution_count": 2,
   "id": "1e76e9fc",
   "metadata": {},
   "outputs": [
    {
     "name": "stdout",
     "output_type": "stream",
     "text": [
      "Name: Alice\n",
      "Age: 20\n",
      "Courses: Math, English\n",
      "--------------------\n",
      "Name: Bob\n",
      "Age: 22\n",
      "Courses: Physics, History\n"
     ]
    }
   ],
   "source": [
    "class Student:\n",
    "    pass\n",
    "\n",
    "student1 = Student()\n",
    "student1.name = \"Alice\"\n",
    "student1.age = 20\n",
    "student1.courses = [\"Math\", \"English\"]\n",
    "\n",
    "student2 = Student()\n",
    "student2.name = \"Bob\"\n",
    "student2.age = 22\n",
    "student2.courses = [\"Physics\", \"History\"]\n",
    "\n",
    "print(\"Name:\", student1.name)\n",
    "print(\"Age:\", student1.age)\n",
    "print(\"Courses:\", \", \".join(student1.courses))\n",
    "print(\"-\" * 20)\n",
    "\n",
    "print(\"Name:\", student2.name)\n",
    "print(\"Age:\", student2.age)\n",
    "print(\"Courses:\", \", \".join(student2.courses))"
   ]
  },
  {
   "cell_type": "markdown",
   "id": "c4fdd2b3",
   "metadata": {},
   "source": [
    "🧪 **Practice:** Try modifying the example, adding a new instance, or enhancing the feature introduced in this stage."
   ]
  },
  {
   "cell_type": "markdown",
   "id": "f6c1fede",
   "metadata": {},
   "source": [
    "## Stage 3\n",
    "**What it teaches:** Use an external function to display student info"
   ]
  },
  {
   "cell_type": "code",
   "execution_count": 3,
   "id": "ece64c4b",
   "metadata": {},
   "outputs": [
    {
     "name": "stdout",
     "output_type": "stream",
     "text": [
      "Name: Alice\n",
      "Age: 20\n",
      "Courses: Math, English\n",
      "--------------------\n",
      "Name: Bob\n",
      "Age: 22\n",
      "Courses: Physics, History\n",
      "--------------------\n"
     ]
    }
   ],
   "source": [
    "class Student:\n",
    "    pass\n",
    "\n",
    "def display_student_info(student):\n",
    "    print(\"Name:\", student.name)\n",
    "    print(\"Age:\", student.age)\n",
    "    print(\"Courses:\", \", \".join(student.courses))\n",
    "    print(\"-\" * 20)\n",
    "\n",
    "student1 = Student()\n",
    "student1.name = \"Alice\"\n",
    "student1.age = 20\n",
    "student1.courses = [\"Math\", \"English\"]\n",
    "\n",
    "student2 = Student()\n",
    "student2.name = \"Bob\"\n",
    "student2.age = 22\n",
    "student2.courses = [\"Physics\", \"History\"]\n",
    "\n",
    "display_student_info(student1)\n",
    "display_student_info(student2)"
   ]
  },
  {
   "cell_type": "markdown",
   "id": "e0842c4c",
   "metadata": {},
   "source": [
    "🧪 **Practice:** Try modifying the example, adding a new instance, or enhancing the feature introduced in this stage."
   ]
  },
  {
   "cell_type": "markdown",
   "id": "2a975a9a",
   "metadata": {},
   "source": [
    "## Stage 4\n",
    "**What it teaches:** Add __init__ method to automate attribute setup"
   ]
  },
  {
   "cell_type": "code",
   "execution_count": 4,
   "id": "13c23e7a",
   "metadata": {},
   "outputs": [
    {
     "name": "stdout",
     "output_type": "stream",
     "text": [
      "Name: Alice\n",
      "Age: 20\n",
      "Courses: Math, English\n",
      "--------------------\n",
      "Name: Bob\n",
      "Age: 22\n",
      "Courses: Physics, History\n",
      "--------------------\n"
     ]
    }
   ],
   "source": [
    "class Student:\n",
    "    def __init__(self, name, age, courses):\n",
    "        self.name = name\n",
    "        self.age = age\n",
    "        self.courses = courses\n",
    "\n",
    "def display_student_info(student):\n",
    "    print(\"Name:\", student.name)\n",
    "    print(\"Age:\", student.age)\n",
    "    print(\"Courses:\", \", \".join(student.courses))\n",
    "    print(\"-\" * 20)\n",
    "\n",
    "student1 = Student(\"Alice\", 20, [\"Math\", \"English\"])\n",
    "student2 = Student(\"Bob\", 22, [\"Physics\", \"History\"])\n",
    "\n",
    "display_student_info(student1)\n",
    "display_student_info(student2)"
   ]
  },
  {
   "cell_type": "markdown",
   "id": "946e113b",
   "metadata": {},
   "source": [
    "🧪 **Practice:** Try modifying the example, adding a new instance, or enhancing the feature introduced in this stage."
   ]
  },
  {
   "cell_type": "markdown",
   "id": "1d92ff02",
   "metadata": {},
   "source": [
    "## Stage 5\n",
    "**What it teaches:** Move the display function into the class as a method"
   ]
  },
  {
   "cell_type": "code",
   "execution_count": 5,
   "id": "d2ae33e7",
   "metadata": {},
   "outputs": [
    {
     "name": "stdout",
     "output_type": "stream",
     "text": [
      "Name: Alice\n",
      "Age: 20\n",
      "Courses: Math, English\n",
      "--------------------\n",
      "Name: Bob\n",
      "Age: 22\n",
      "Courses: Physics, History\n",
      "--------------------\n"
     ]
    }
   ],
   "source": [
    "class Student:\n",
    "    def __init__(self, name, age, courses):\n",
    "        self.name = name\n",
    "        self.age = age\n",
    "        self.courses = courses\n",
    "\n",
    "    def display_info(self):\n",
    "        print(\"Name:\", self.name)\n",
    "        print(\"Age:\", self.age)\n",
    "        print(\"Courses:\", \", \".join(self.courses))\n",
    "        print(\"-\" * 20)\n",
    "\n",
    "student1 = Student(\"Alice\", 20, [\"Math\", \"English\"])\n",
    "student2 = Student(\"Bob\", 22, [\"Physics\", \"History\"])\n",
    "\n",
    "student1.display_info()\n",
    "student2.display_info()"
   ]
  },
  {
   "cell_type": "markdown",
   "id": "dac9e714",
   "metadata": {},
   "source": [
    "🧪 **Practice:** Try modifying the example, adding a new instance, or enhancing the feature introduced in this stage."
   ]
  },
  {
   "cell_type": "markdown",
   "id": "d09fcda3",
   "metadata": {},
   "source": [
    "## Stage 6\n",
    "**What it teaches:** Split full name into first and last name; add get_full_name()"
   ]
  },
  {
   "cell_type": "code",
   "execution_count": 6,
   "id": "e3fcbe43",
   "metadata": {},
   "outputs": [
    {
     "name": "stdout",
     "output_type": "stream",
     "text": [
      "Name: Alice Johnson\n",
      "Age: 20\n",
      "Courses: Math, English\n",
      "--------------------\n",
      "Name: Bob Smith\n",
      "Age: 22\n",
      "Courses: Physics, History\n",
      "--------------------\n"
     ]
    }
   ],
   "source": [
    "class Student:\n",
    "    def __init__(self, first_name, last_name, age, courses):\n",
    "        self.first_name = first_name\n",
    "        self.last_name = last_name\n",
    "        self.age = age\n",
    "        self.courses = courses\n",
    "\n",
    "    def get_full_name(self):\n",
    "        return f\"{self.first_name} {self.last_name}\"\n",
    "\n",
    "    def display_info(self):\n",
    "        print(\"Name:\", self.get_full_name())\n",
    "        print(\"Age:\", self.age)\n",
    "        print(\"Courses:\", \", \".join(self.courses))\n",
    "        print(\"-\" * 20)\n",
    "\n",
    "student1 = Student(\"Alice\", \"Johnson\", 20, [\"Math\", \"English\"])\n",
    "student2 = Student(\"Bob\", \"Smith\", 22, [\"Physics\", \"History\"])\n",
    "\n",
    "student1.display_info()\n",
    "student2.display_info()"
   ]
  },
  {
   "cell_type": "markdown",
   "id": "2fd9447f",
   "metadata": {},
   "source": [
    "🧪 **Practice:** Try modifying the example, adding a new instance, or enhancing the feature introduced in this stage."
   ]
  },
  {
   "cell_type": "markdown",
   "id": "25188314",
   "metadata": {},
   "source": [
    "## Stage 7\n",
    "**What it teaches:** Add salary and pocket_money attributes"
   ]
  },
  {
   "cell_type": "code",
   "execution_count": 7,
   "id": "01bfc385",
   "metadata": {},
   "outputs": [
    {
     "name": "stdout",
     "output_type": "stream",
     "text": [
      "Name: Alice Johnson\n",
      "Age: 20\n",
      "Courses: Math, English\n",
      "Salary: $1200\n",
      "Pocket Money: $0\n",
      "--------------------\n",
      "Name: Bob Smith\n",
      "Age: 22\n",
      "Courses: Physics, History\n",
      "Salary: $1500\n",
      "Pocket Money: $0\n",
      "--------------------\n"
     ]
    }
   ],
   "source": [
    "class Student:\n",
    "    def __init__(self, first_name, last_name, age, courses, salary):\n",
    "        self.first_name = first_name\n",
    "        self.last_name = last_name\n",
    "        self.age = age\n",
    "        self.courses = courses\n",
    "        self.salary = salary\n",
    "        self.pocket_money = 0\n",
    "\n",
    "    def get_full_name(self):\n",
    "        return f\"{self.first_name} {self.last_name}\"\n",
    "\n",
    "    def display_info(self):\n",
    "        print(\"Name:\", self.get_full_name())\n",
    "        print(\"Age:\", self.age)\n",
    "        print(\"Courses:\", \", \".join(self.courses))\n",
    "        print(\"Salary:\", f\"${self.salary}\")\n",
    "        print(\"Pocket Money:\", f\"${self.pocket_money}\")\n",
    "        print(\"-\" * 20)\n",
    "\n",
    "student1 = Student(\"Alice\", \"Johnson\", 20, [\"Math\", \"English\"], 1200)\n",
    "student2 = Student(\"Bob\", \"Smith\", 22, [\"Physics\", \"History\"], 1500)\n",
    "\n",
    "student1.display_info()\n",
    "student2.display_info()"
   ]
  },
  {
   "cell_type": "markdown",
   "id": "1933f2a4",
   "metadata": {},
   "source": [
    "🧪 **Practice:** Try modifying the example, adding a new instance, or enhancing the feature introduced in this stage."
   ]
  },
  {
   "cell_type": "markdown",
   "id": "f379c091",
   "metadata": {},
   "source": [
    "## Stage 8\n",
    "**What it teaches:** Add a class variable and class method to count students"
   ]
  },
  {
   "cell_type": "code",
   "execution_count": 8,
   "id": "ac25b324",
   "metadata": {},
   "outputs": [
    {
     "name": "stdout",
     "output_type": "stream",
     "text": [
      "2\n"
     ]
    }
   ],
   "source": [
    "class Student:\n",
    "    student_count = 0\n",
    "\n",
    "    def __init__(self, first_name, last_name, age, courses, salary):\n",
    "        self.first_name = first_name\n",
    "        self.last_name = last_name\n",
    "        self.age = age\n",
    "        self.courses = courses\n",
    "        self.salary = salary\n",
    "        self.pocket_money = 0\n",
    "        Student.student_count += 1\n",
    "\n",
    "    def get_full_name(self):\n",
    "        return f\"{self.first_name} {self.last_name}\"\n",
    "\n",
    "    def display_info(self):\n",
    "        print(\"Name:\", self.get_full_name())\n",
    "        print(\"Age:\", self.age)\n",
    "        print(\"Courses:\", \", \".join(self.courses))\n",
    "        print(\"Salary:\", f\"${self.salary}\")\n",
    "        print(\"Pocket Money:\", f\"${self.pocket_money}\")\n",
    "        print(\"-\" * 20)\n",
    "\n",
    "    @classmethod\n",
    "    def get_student_count(cls):\n",
    "        return cls.student_count\n",
    "\n",
    "student1 = Student(\"Alice\", \"Johnson\", 20, [\"Math\", \"English\"], 1200)\n",
    "student2 = Student(\"Bob\", \"Smith\", 22, [\"Physics\", \"History\"], 1500)\n",
    "\n",
    "print(Student.get_student_count())"
   ]
  },
  {
   "cell_type": "markdown",
   "id": "65e89d72",
   "metadata": {},
   "source": [
    "🧪 **Practice:** Try modifying the example, adding a new instance, or enhancing the feature introduced in this stage."
   ]
  },
  {
   "cell_type": "markdown",
   "id": "e370a62d",
   "metadata": {},
   "source": [
    "## Stage 9\n",
    "**What it teaches:** Refactor Student class to Employee (remove courses)"
   ]
  },
  {
   "cell_type": "code",
   "execution_count": 9,
   "id": "e3967f02",
   "metadata": {},
   "outputs": [
    {
     "name": "stdout",
     "output_type": "stream",
     "text": [
      "Name: Alice Johnson\n",
      "Age: 28\n",
      "Salary: $3500\n",
      "Pocket Money: $0\n",
      "--------------------\n",
      "Name: Bob Smith\n",
      "Age: 32\n",
      "Salary: $4200\n",
      "Pocket Money: $0\n",
      "--------------------\n"
     ]
    }
   ],
   "source": [
    "class Employee:\n",
    "    employee_count = 0\n",
    "\n",
    "    def __init__(self, first_name, last_name, age, salary):\n",
    "        self.first_name = first_name\n",
    "        self.last_name = last_name\n",
    "        self.age = age\n",
    "        self.salary = salary\n",
    "        self.pocket_money = 0\n",
    "        Employee.employee_count += 1\n",
    "\n",
    "    def get_full_name(self):\n",
    "        return f\"{self.first_name} {self.last_name}\"\n",
    "\n",
    "    def display_info(self):\n",
    "        print(\"Name:\", self.get_full_name())\n",
    "        print(\"Age:\", self.age)\n",
    "        print(\"Salary:\", f\"${self.salary}\")\n",
    "        print(\"Pocket Money:\", f\"${self.pocket_money}\")\n",
    "        print(\"-\" * 20)\n",
    "\n",
    "emp1 = Employee(\"Alice\", \"Johnson\", 28, 3500)\n",
    "emp2 = Employee(\"Bob\", \"Smith\", 32, 4200)\n",
    "\n",
    "emp1.display_info()\n",
    "emp2.display_info()"
   ]
  },
  {
   "cell_type": "markdown",
   "id": "ee88567a",
   "metadata": {},
   "source": [
    "🧪 **Practice:** Try modifying the example, adding a new instance, or enhancing the feature introduced in this stage."
   ]
  },
  {
   "cell_type": "markdown",
   "id": "dc4a134f",
   "metadata": {},
   "source": [
    "## Stage 10\n",
    "**What it teaches:** Add apply_raise method and class method to set raise percentage"
   ]
  },
  {
   "cell_type": "code",
   "execution_count": 10,
   "id": "9901e1ac",
   "metadata": {},
   "outputs": [],
   "source": [
    "class Employee:\n",
    "    employee_count = 0\n",
    "    raise_percentage = 0.10\n",
    "\n",
    "    def __init__(self, first_name, last_name, age, salary):\n",
    "        self.first_name = first_name\n",
    "        self.last_name = last_name\n",
    "        self.age = age\n",
    "        self.salary = salary\n",
    "        self.pocket_money = 0\n",
    "        Employee.employee_count += 1\n",
    "\n",
    "    def get_full_name(self):\n",
    "        return f\"{self.first_name} {self.last_name}\"\n",
    "\n",
    "    def display_info(self):\n",
    "        print(\"Name:\", self.get_full_name())\n",
    "        print(\"Age:\", self.age)\n",
    "        print(\"Salary:\", f\"${self.salary}\")\n",
    "        print(\"Pocket Money:\", f\"${self.pocket_money}\")\n",
    "        print(\"-\" * 20)\n",
    "\n",
    "    def apply_raise(self):\n",
    "        raise_amount = self.salary * Employee.raise_percentage\n",
    "        self.salary += int(raise_amount)\n",
    "\n",
    "    @classmethod\n",
    "    def set_raise_percentage(cls, new_percent):\n",
    "        cls.raise_percentage = new_percent"
   ]
  },
  {
   "cell_type": "markdown",
   "id": "388a0cba",
   "metadata": {},
   "source": [
    "🧪 **Practice:** Try modifying the example, adding a new instance, or enhancing the feature introduced in this stage."
   ]
  },
  {
   "cell_type": "markdown",
   "id": "f067cd7c",
   "metadata": {},
   "source": [
    "## Stage 11\n",
    "**What it teaches:** Add collect_salary() method to move salary into pocket_money"
   ]
  },
  {
   "cell_type": "code",
   "execution_count": null,
   "id": "5bdf4512",
   "metadata": {},
   "outputs": [],
   "source": [
    "class Employee:\n",
    "    employee_count = 0\n",
    "    raise_percentage = 0.10\n",
    "\n",
    "    def __init__(self, first_name, last_name, age, salary):\n",
    "        self.first_name = first_name\n",
    "        self.last_name = last_name\n",
    "        self.age = age\n",
    "        self.salary = salary\n",
    "        self.pocket_money = 0\n",
    "        Employee.employee_count += 1\n",
    "\n",
    "    def get_full_name(self):\n",
    "        return f\"{self.first_name} {self.last_name}\"\n",
    "\n",
    "    def display_info(self):\n",
    "        print(\"Name:\", self.get_full_name())\n",
    "        print(\"Age:\", self.age)\n",
    "        print(\"Salary:\", f\"${self.salary}\")\n",
    "        print(\"Pocket Money:\", f\"${self.pocket_money}\")\n",
    "        print(\"-\" * 20)\n",
    "\n",
    "    def apply_raise(self):\n",
    "        raise_amount = self.salary * Employee.raise_percentage\n",
    "        self.salary += int(raise_amount)\n",
    "\n",
    "    @classmethod\n",
    "    def set_raise_percentage(cls, new_percent):\n",
    "        cls.raise_percentage = new_percent\n",
    "        \n",
    "    def collect_salary(self):\n",
    "        self.pocket_money += self.salary\n",
    "        print(f\"{self.get_full_name()} collected ${self.salary} salary.\")"
   ]
  },
  {
   "cell_type": "markdown",
   "id": "e2521a8a",
   "metadata": {},
   "source": [
    "🧪 **Practice:** Try modifying the example, adding a new instance, or enhancing the feature introduced in this stage."
   ]
  },
  {
   "cell_type": "markdown",
   "id": "7ca1a0f1",
   "metadata": {},
   "source": [
    "## Stage 12\n",
    "**What it teaches:** Add spend_money(amount) method with basic validation"
   ]
  },
  {
   "cell_type": "code",
   "execution_count": null,
   "id": "d8143ea8",
   "metadata": {},
   "outputs": [],
   "source": [
    "class Employee:\n",
    "    employee_count = 0\n",
    "    raise_percentage = 0.10\n",
    "\n",
    "    def __init__(self, first_name, last_name, age, salary):\n",
    "        self.first_name = first_name\n",
    "        self.last_name = last_name\n",
    "        self.age = age\n",
    "        self.salary = salary\n",
    "        self.pocket_money = 0\n",
    "        Employee.employee_count += 1\n",
    "\n",
    "    def get_full_name(self):\n",
    "        return f\"{self.first_name} {self.last_name}\"\n",
    "\n",
    "    def display_info(self):\n",
    "        print(\"Name:\", self.get_full_name())\n",
    "        print(\"Age:\", self.age)\n",
    "        print(\"Salary:\", f\"${self.salary}\")\n",
    "        print(\"Pocket Money:\", f\"${self.pocket_money}\")\n",
    "        print(\"-\" * 20)\n",
    "\n",
    "    def apply_raise(self):\n",
    "        raise_amount = self.salary * Employee.raise_percentage\n",
    "        self.salary += int(raise_amount)\n",
    "\n",
    "    @classmethod\n",
    "    def set_raise_percentage(cls, new_percent):\n",
    "        cls.raise_percentage = new_percent\n",
    "        \n",
    "    def collect_salary(self):\n",
    "        self.pocket_money += self.salary\n",
    "        \n",
    "    def spend_money(self, amount):\n",
    "        if amount <= 0:\n",
    "            print(f\"{self.get_full_name()} cannot spend zero or negative amounts.\")\n",
    "        elif self.pocket_money >= amount:\n",
    "            self.pocket_money -= amount\n",
    "            print(f\"{self.get_full_name()} spent ${amount}. Remaining: ${self.pocket_money}\")\n",
    "        else:\n",
    "            print(f\"{self.get_full_name()} does not have enough money to spend ${amount}.\")"
   ]
  },
  {
   "cell_type": "markdown",
   "id": "07c8c94b",
   "metadata": {},
   "source": [
    "🧪 **Practice:** Try modifying the example, adding a new instance, or enhancing the feature introduced in this stage."
   ]
  },
  {
   "cell_type": "markdown",
   "id": "d7c9b2f0",
   "metadata": {},
   "source": [
    "## Stage 13\n",
    "**What it teaches:** Add from_string() class method to create employee from a string"
   ]
  },
  {
   "cell_type": "code",
   "execution_count": 17,
   "id": "2c819546",
   "metadata": {},
   "outputs": [
    {
     "name": "stdout",
     "output_type": "stream",
     "text": [
      "Name: Bob Smith\n",
      "Age: 32\n",
      "Salary: $4200\n",
      "Pocket Money: $0\n",
      "--------------------\n",
      "Bob Smith spent $100. Remaining: $4100\n"
     ]
    }
   ],
   "source": [
    "class Employee:\n",
    "    employee_count = 0\n",
    "    raise_percentage = 0.10\n",
    "\n",
    "    def __init__(self, first_name, last_name, age, salary):\n",
    "        self.first_name = first_name\n",
    "        self.last_name = last_name\n",
    "        self.age = age\n",
    "        self.salary = salary\n",
    "        self.pocket_money = 0\n",
    "        Employee.employee_count += 1\n",
    "\n",
    "    def get_full_name(self):\n",
    "        return f\"{self.first_name} {self.last_name}\"\n",
    "\n",
    "    def display_info(self):\n",
    "        print(\"Name:\", self.get_full_name())\n",
    "        print(\"Age:\", self.age)\n",
    "        print(\"Salary:\", f\"${self.salary}\")\n",
    "        print(\"Pocket Money:\", f\"${self.pocket_money}\")\n",
    "        print(\"-\" * 20)\n",
    "\n",
    "    def apply_raise(self):\n",
    "        raise_amount = self.salary * Employee.raise_percentage\n",
    "        self.salary += int(raise_amount)\n",
    "\n",
    "    @classmethod\n",
    "    def set_raise_percentage(cls, new_percent):\n",
    "        cls.raise_percentage = new_percent\n",
    "        \n",
    "    def collect_salary(self):\n",
    "        self.pocket_money += self.salary\n",
    "\n",
    "    def spend_money(self, amount):\n",
    "        if amount <= 0:\n",
    "            print(f\"{self.get_full_name()} cannot spend zero or negative amounts.\")\n",
    "        elif self.pocket_money >= amount:\n",
    "            self.pocket_money -= amount\n",
    "            print(f\"{self.get_full_name()} spent ${amount}. Remaining: ${self.pocket_money}\")\n",
    "        else:\n",
    "            print(f\"{self.get_full_name()} does not have enough money to spend ${amount}.\")\n",
    "\n",
    "    @classmethod\n",
    "    def from_string(cls, emp_str):\n",
    "        first, last, age, salary = emp_str.split(\"-\")\n",
    "        return cls(first, last, int(age), int(salary))\n",
    "\n",
    "# Example usage:\n",
    "emp_data = \"Bob-Smith-32-4200\"\n",
    "emp = Employee.from_string(emp_data)\n",
    "emp.display_info()\n",
    "emp.collect_salary()\n",
    "emp.spend_money(100)"
   ]
  },
  {
   "cell_type": "markdown",
   "id": "d93f4c20",
   "metadata": {},
   "source": [
    "🧪 **Practice:** Try modifying the example, adding a new instance, or enhancing the feature introduced in this stage."
   ]
  },
  {
   "cell_type": "markdown",
   "id": "7f6d6fb0",
   "metadata": {},
   "source": [
    "## 🎉 You're Done!\n",
    "You’ve built a complete understanding of how simple Python scripts grow into full object-oriented designs.\n",
    "Keep practicing by designing your own classes and trying advanced features like inheritance or JSON integration."
   ]
  }
 ],
 "metadata": {},
 "nbformat": 4,
 "nbformat_minor": 5
}
