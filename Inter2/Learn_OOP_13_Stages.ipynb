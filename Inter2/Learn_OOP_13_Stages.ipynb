{
 "cells": [
  {
   "cell_type": "markdown",
   "id": "ccf14400",
   "metadata": {},
   "source": [
    "# 🎓 Learn OOP Step-by-Step: From Basics to Full Class Design\n",
    "\n",
    "This notebook guides you through 13 progressive stages to learn Object-Oriented Programming (OOP) in Python.\n",
    "You'll start with variables and end with full-featured classes including methods, classmethods, and validation.\n",
    "Each stage contains explanations, code examples, and practice prompts."
   ]
  },
  {
   "cell_type": "markdown",
   "id": "ee3af0d2",
   "metadata": {},
   "source": [
    "## ✅ Stage 1\n",
    "**What you learn:** Raw variables and print statements — no class, no functions"
   ]
  },
  {
   "cell_type": "code",
   "execution_count": null,
   "id": "d02570db",
   "metadata": {},
   "outputs": [],
   "source": [
    "# 👉 Code for Stage 1 goes here\n",
    "\n",
    "# Feel free to modify or expand it"
   ]
  },
  {
   "cell_type": "markdown",
   "id": "ace0c52a",
   "metadata": {},
   "source": [
    "🧪 **Practice:** Try modifying the example, adding a new instance, or enhancing the feature introduced in **Stage 1**."
   ]
  },
  {
   "cell_type": "markdown",
   "id": "090d4314",
   "metadata": {},
   "source": [
    "## ✅ Stage 2\n",
    "**What you learn:** Define an empty class; manually assign attributes; still using print"
   ]
  },
  {
   "cell_type": "code",
   "execution_count": null,
   "id": "5ad7144d",
   "metadata": {},
   "outputs": [],
   "source": [
    "# 👉 Code for Stage 2 goes here\n",
    "\n",
    "# Feel free to modify or expand it"
   ]
  },
  {
   "cell_type": "markdown",
   "id": "c4cd5fbb",
   "metadata": {},
   "source": [
    "🧪 **Practice:** Try modifying the example, adding a new instance, or enhancing the feature introduced in **Stage 2**."
   ]
  },
  {
   "cell_type": "markdown",
   "id": "54c17303",
   "metadata": {},
   "source": [
    "## ✅ Stage 3\n",
    "**What you learn:** Use an external function to display student info"
   ]
  },
  {
   "cell_type": "code",
   "execution_count": null,
   "id": "3210b254",
   "metadata": {},
   "outputs": [],
   "source": [
    "# 👉 Code for Stage 3 goes here\n",
    "\n",
    "# Feel free to modify or expand it"
   ]
  },
  {
   "cell_type": "markdown",
   "id": "b4f83ad3",
   "metadata": {},
   "source": [
    "🧪 **Practice:** Try modifying the example, adding a new instance, or enhancing the feature introduced in **Stage 3**."
   ]
  },
  {
   "cell_type": "markdown",
   "id": "b573d45d",
   "metadata": {},
   "source": [
    "## ✅ Stage 4\n",
    "**What you learn:** Add __init__ method to automate attribute setup"
   ]
  },
  {
   "cell_type": "code",
   "execution_count": null,
   "id": "1a9a24a1",
   "metadata": {},
   "outputs": [],
   "source": [
    "# 👉 Code for Stage 4 goes here\n",
    "\n",
    "# Feel free to modify or expand it"
   ]
  },
  {
   "cell_type": "markdown",
   "id": "38e9f897",
   "metadata": {},
   "source": [
    "🧪 **Practice:** Try modifying the example, adding a new instance, or enhancing the feature introduced in **Stage 4**."
   ]
  },
  {
   "cell_type": "markdown",
   "id": "9107b5d0",
   "metadata": {},
   "source": [
    "## ✅ Stage 5\n",
    "**What you learn:** Move the display function into the class as a method"
   ]
  },
  {
   "cell_type": "code",
   "execution_count": null,
   "id": "f0c2cb0d",
   "metadata": {},
   "outputs": [],
   "source": [
    "# 👉 Code for Stage 5 goes here\n",
    "\n",
    "# Feel free to modify or expand it"
   ]
  },
  {
   "cell_type": "markdown",
   "id": "b4c998a8",
   "metadata": {},
   "source": [
    "🧪 **Practice:** Try modifying the example, adding a new instance, or enhancing the feature introduced in **Stage 5**."
   ]
  },
  {
   "cell_type": "markdown",
   "id": "22b279f9",
   "metadata": {},
   "source": [
    "## ✅ Stage 6\n",
    "**What you learn:** Split full name into first and last name; add get_full_name()"
   ]
  },
  {
   "cell_type": "code",
   "execution_count": null,
   "id": "8bbdaf81",
   "metadata": {},
   "outputs": [],
   "source": [
    "# 👉 Code for Stage 6 goes here\n",
    "\n",
    "# Feel free to modify or expand it"
   ]
  },
  {
   "cell_type": "markdown",
   "id": "719a2ec9",
   "metadata": {},
   "source": [
    "🧪 **Practice:** Try modifying the example, adding a new instance, or enhancing the feature introduced in **Stage 6**."
   ]
  },
  {
   "cell_type": "markdown",
   "id": "8b678549",
   "metadata": {},
   "source": [
    "## ✅ Stage 7\n",
    "**What you learn:** Add salary and pocket_money attributes"
   ]
  },
  {
   "cell_type": "code",
   "execution_count": null,
   "id": "79ce4520",
   "metadata": {},
   "outputs": [],
   "source": [
    "# 👉 Code for Stage 7 goes here\n",
    "\n",
    "# Feel free to modify or expand it"
   ]
  },
  {
   "cell_type": "markdown",
   "id": "81a8bb02",
   "metadata": {},
   "source": [
    "🧪 **Practice:** Try modifying the example, adding a new instance, or enhancing the feature introduced in **Stage 7**."
   ]
  },
  {
   "cell_type": "markdown",
   "id": "0d856872",
   "metadata": {},
   "source": [
    "## ✅ Stage 8\n",
    "**What you learn:** Add a class variable and class method to count students"
   ]
  },
  {
   "cell_type": "code",
   "execution_count": null,
   "id": "4a98ef9e",
   "metadata": {},
   "outputs": [],
   "source": [
    "# 👉 Code for Stage 8 goes here\n",
    "\n",
    "# Feel free to modify or expand it"
   ]
  },
  {
   "cell_type": "markdown",
   "id": "88d22612",
   "metadata": {},
   "source": [
    "🧪 **Practice:** Try modifying the example, adding a new instance, or enhancing the feature introduced in **Stage 8**."
   ]
  },
  {
   "cell_type": "markdown",
   "id": "1fb7cc67",
   "metadata": {},
   "source": [
    "## ✅ Stage 9\n",
    "**What you learn:** Refactor Student class to Employee (remove courses)"
   ]
  },
  {
   "cell_type": "code",
   "execution_count": null,
   "id": "88e4a8b5",
   "metadata": {},
   "outputs": [],
   "source": [
    "# 👉 Code for Stage 9 goes here\n",
    "\n",
    "# Feel free to modify or expand it"
   ]
  },
  {
   "cell_type": "markdown",
   "id": "20c2040d",
   "metadata": {},
   "source": [
    "🧪 **Practice:** Try modifying the example, adding a new instance, or enhancing the feature introduced in **Stage 9**."
   ]
  },
  {
   "cell_type": "markdown",
   "id": "bd128f2b",
   "metadata": {},
   "source": [
    "## ✅ Stage 10\n",
    "**What you learn:** Add apply_raise method and class method to set raise percentage"
   ]
  },
  {
   "cell_type": "code",
   "execution_count": null,
   "id": "7ea00995",
   "metadata": {},
   "outputs": [],
   "source": [
    "# 👉 Code for Stage 10 goes here\n",
    "\n",
    "# Feel free to modify or expand it"
   ]
  },
  {
   "cell_type": "markdown",
   "id": "d4a3d693",
   "metadata": {},
   "source": [
    "🧪 **Practice:** Try modifying the example, adding a new instance, or enhancing the feature introduced in **Stage 10**."
   ]
  },
  {
   "cell_type": "markdown",
   "id": "8262e4e4",
   "metadata": {},
   "source": [
    "## ✅ Stage 11\n",
    "**What you learn:** Add collect_salary() method to move salary into pocket_money"
   ]
  },
  {
   "cell_type": "code",
   "execution_count": null,
   "id": "14fa90c8",
   "metadata": {},
   "outputs": [],
   "source": [
    "# 👉 Code for Stage 11 goes here\n",
    "\n",
    "# Feel free to modify or expand it"
   ]
  },
  {
   "cell_type": "markdown",
   "id": "133a323f",
   "metadata": {},
   "source": [
    "🧪 **Practice:** Try modifying the example, adding a new instance, or enhancing the feature introduced in **Stage 11**."
   ]
  },
  {
   "cell_type": "markdown",
   "id": "1ffc2ad9",
   "metadata": {},
   "source": [
    "## ✅ Stage 12\n",
    "**What you learn:** Add spend_money(amount) method with basic validation"
   ]
  },
  {
   "cell_type": "code",
   "execution_count": null,
   "id": "689ae6eb",
   "metadata": {},
   "outputs": [],
   "source": [
    "# 👉 Code for Stage 12 goes here\n",
    "\n",
    "# Feel free to modify or expand it"
   ]
  },
  {
   "cell_type": "markdown",
   "id": "383c3ed5",
   "metadata": {},
   "source": [
    "🧪 **Practice:** Try modifying the example, adding a new instance, or enhancing the feature introduced in **Stage 12**."
   ]
  },
  {
   "cell_type": "markdown",
   "id": "82ba4c09",
   "metadata": {},
   "source": [
    "## ✅ Stage 13\n",
    "**What you learn:** Add from_string() class method to create employee from a string"
   ]
  },
  {
   "cell_type": "code",
   "execution_count": null,
   "id": "d434ab6a",
   "metadata": {},
   "outputs": [],
   "source": [
    "# 👉 Code for Stage 13 goes here\n",
    "\n",
    "# Feel free to modify or expand it"
   ]
  },
  {
   "cell_type": "markdown",
   "id": "5988596d",
   "metadata": {},
   "source": [
    "🧪 **Practice:** Try modifying the example, adding a new instance, or enhancing the feature introduced in **Stage 13**."
   ]
  },
  {
   "cell_type": "markdown",
   "id": "703b88d8",
   "metadata": {},
   "source": [
    "## 🎉 You're Done!\n",
    "You’ve built a complete understanding of how simple Python scripts grow into full object-oriented designs.\n",
    "Keep practicing by designing your own classes and trying advanced features like inheritance or JSON integration."
   ]
  }
 ],
 "metadata": {},
 "nbformat": 4,
 "nbformat_minor": 5
}
